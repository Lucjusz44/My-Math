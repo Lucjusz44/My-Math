{
  "cells": [
    {
      "cell_type": "markdown",
      "metadata": {
        "id": "view-in-github",
        "colab_type": "text"
      },
      "source": [
        "<a href=\"https://colab.research.google.com/github/Lucjusz44/My-Math/blob/main/vertopal_com_exercise_list_(2).ipynb\" target=\"_parent\"><img src=\"https://colab.research.google.com/assets/colab-badge.svg\" alt=\"Open In Colab\"/></a>"
      ]
    },
    {
      "cell_type": "markdown",
      "metadata": {
        "id": "42a14256-91c8-446e-92a7-ab6bf11055d3"
      },
      "source": [
        "## Tasks related to equations of planes in space\n",
        "\n",
        "**Visualize each task.** - Python, GeoGebra, Wolfram Alpha, …\n",
        "\n",
        "-   The plane passes through points $A(1, 2, 3)$, $B(3, 4, 5)$, and\n",
        "    $C(2, 1, 4)$. Find the equation of the plane.\n",
        "-   The plane passes through point $A(1, 2, 3)$ and is parallel to the\n",
        "    plane $2x + 3y + 4z = 5$. Find the equation of the plane.\n",
        "-   The plane passes through point $A(1, 2, 3)$ and is perpendicular to\n",
        "    the normal vector $\\vec{n} = [2, 3, 4]$. Find the equation of the\n",
        "    plane.\n",
        "-   We have two planes $2x + 3y + 4z = 5$ and $3x + 4y + 2z = 6$. Find\n",
        "    the line of intersection of these planes.\n",
        "-   Write the equation of the plane passing through point $A(1, 2, 3)$\n",
        "    and parallel to vectors $\\vec{v_1} = [1, 0, 1]$ and\n",
        "    $\\vec{v_2} = [0, 1, -1]$.\n",
        "-   We have the plane $2x + 3y + 4z = 5$. Find an example of a plane\n",
        "    parallel and perpendicular to it.\n",
        "-   We have the plane $2x + 3y + 4z = 5$ and point $A(1, 2, 3)$. Find\n",
        "    the distance from point $A$ to this plane.\n",
        "-   The plane intersects the coordinate axes at points $A(2, 0, 0)$,\n",
        "    $B(0, 3, 0)$, and $C(0, 0, 4)$. Find the equation of the plane.\n",
        "-   Calculate the angle between the plane $x + y + z = 1$ and the plane\n",
        "    $x = 0$ (i.e., the $yz$ plane).\n",
        "-   Find the vector perpendicular to the plane $x + y + z = 1$."
      ],
      "id": "42a14256-91c8-446e-92a7-ab6bf11055d3"
    },
    {
      "cell_type": "code",
      "source": [
        "#1\n",
        "import numpy as np\n",
        "\n",
        "# Define the points\n",
        "A = np.array([1, 2, 3])\n",
        "B = np.array([3, 4, 5])\n",
        "C = np.array([2, 1, 4])\n",
        "\n",
        "# Find two vectors in the plane\n",
        "AB = B - A\n",
        "AC = C - A\n",
        "\n",
        "# Calculate the cross product to get the normal vector\n",
        "n = np.cross(AB, AC)\n",
        "\n",
        "# Write the equation of the plane\n",
        "equation = f\"{n[0]}*(x - {A[0]}) + {n[1]}*(y - {A[1]}) + {n[2]}*(z - {A[2]}) = 0\"\n",
        "print(equation)"
      ],
      "metadata": {
        "colab": {
          "base_uri": "https://localhost:8080/"
        },
        "id": "6DuNR8900lZo",
        "outputId": "4889b0da-2b29-4a96-ce81-11941ddc1a3a"
      },
      "id": "6DuNR8900lZo",
      "execution_count": 1,
      "outputs": [
        {
          "output_type": "stream",
          "name": "stdout",
          "text": [
            "4*(x - 1) + 0*(y - 2) + -4*(z - 3) = 0\n"
          ]
        }
      ]
    },
    {
      "cell_type": "code",
      "source": [
        "#2\n",
        "# The normal vector of the given plane is [2, 3, 4]\n",
        "# Since the new plane is parallel, it has the same normal vector\n",
        "\n",
        "# Use the normal vector and point A to write the equation\n",
        "equation = f\"2*(x - 1) + 3*(y - 2) + 4*(z - 3) = 0\"\n",
        "print(equation)"
      ],
      "metadata": {
        "colab": {
          "base_uri": "https://localhost:8080/"
        },
        "id": "fSGthxf-0zr8",
        "outputId": "faf06b67-b386-4600-878e-cbf892fb0863"
      },
      "id": "fSGthxf-0zr8",
      "execution_count": 2,
      "outputs": [
        {
          "output_type": "stream",
          "name": "stdout",
          "text": [
            "2*(x - 1) + 3*(y - 2) + 4*(z - 3) = 0\n"
          ]
        }
      ]
    },
    {
      "cell_type": "code",
      "source": [
        "#3\n",
        "# Use the normal vector and point A to write the equation\n",
        "equation = f\"2*(x - 1) + 3*(y - 2) + 4*(z - 3) = 0\"\n",
        "print(equation)"
      ],
      "metadata": {
        "colab": {
          "base_uri": "https://localhost:8080/"
        },
        "id": "Fn1ybuK606Cu",
        "outputId": "3daaa0ac-6fb2-4bc3-a92f-817da3c75075"
      },
      "id": "Fn1ybuK606Cu",
      "execution_count": 3,
      "outputs": [
        {
          "output_type": "stream",
          "name": "stdout",
          "text": [
            "2*(x - 1) + 3*(y - 2) + 4*(z - 3) = 0\n"
          ]
        }
      ]
    },
    {
      "cell_type": "code",
      "source": [
        "#4\n",
        "import numpy as np\n",
        "\n",
        "# Define the normal vectors of the planes\n",
        "n1 = np.array([2, 3, 4])\n",
        "n2 = np.array([3, 4, 2])\n",
        "\n",
        "# Find the direction vector of the line of intersection (cross product of normal vectors)\n",
        "direction_vector = np.cross(n1, n2)\n",
        "\n",
        "# Find a point on the line by setting z = 0 and solving the system of equations\n",
        "# 2x + 3y = 5\n",
        "# 3x + 4y = 6\n",
        "# Solving this system gives x = -2, y = 3\n",
        "point_on_line = np.array([-2, 3, 0])\n",
        "\n",
        "# The equation of the line is given by:\n",
        "# x = point_on_line[0] + t * direction_vector[0]\n",
        "# y = point_on_line[1] + t * direction_vector[1]\n",
        "# z = point_on_line[2] + t * direction_vector[2]\n",
        "# where t is a parameter\n",
        "\n",
        "print(f\"Line of intersection: x = {-2} + {direction_vector[0]}t, y = {3} + {direction_vector[1]}t, z = {0} + {direction_vector[2]}t\")"
      ],
      "metadata": {
        "colab": {
          "base_uri": "https://localhost:8080/"
        },
        "id": "NvRNtWq80_Fd",
        "outputId": "53594bee-9786-42ce-bcd2-2ee118573dbf"
      },
      "id": "NvRNtWq80_Fd",
      "execution_count": 4,
      "outputs": [
        {
          "output_type": "stream",
          "name": "stdout",
          "text": [
            "Line of intersection: x = -2 + -10t, y = 3 + 8t, z = 0 + -1t\n"
          ]
        }
      ]
    },
    {
      "cell_type": "code",
      "source": [
        "#5\n",
        "import numpy as np\n",
        "\n",
        "# Define the vectors and point\n",
        "v1 = np.array([1, 0, 1])\n",
        "v2 = np.array([0, 1, -1])\n",
        "A = np.array([1, 2, 3])\n",
        "\n",
        "# Find the normal vector (cross product of v1 and v2)\n",
        "n = np.cross(v1, v2)\n",
        "\n",
        "# Write the equation of the plane\n",
        "equation = f\"{n[0]}*(x - {A[0]}) + {n[1]}*(y - {A[1]}) + {n[2]}*(z - {A[2]}) = 0\"\n",
        "print(equation)"
      ],
      "metadata": {
        "colab": {
          "base_uri": "https://localhost:8080/"
        },
        "id": "d4_Szt-z1BqS",
        "outputId": "23f58d76-4ef9-437b-e36d-743067e9bbf1"
      },
      "id": "d4_Szt-z1BqS",
      "execution_count": 5,
      "outputs": [
        {
          "output_type": "stream",
          "name": "stdout",
          "text": [
            "-1*(x - 1) + 1*(y - 2) + 1*(z - 3) = 0\n"
          ]
        }
      ]
    },
    {
      "cell_type": "code",
      "source": [
        "#6\n",
        "# Parallel plane: Any plane with the same normal vector [2, 3, 4]\n",
        "# Example: 2x + 3y + 4z = 10 (different constant term)\n",
        "\n",
        "# Perpendicular plane: Any plane whose normal vector is orthogonal to [2, 3, 4]\n",
        "# Example: x - 2y = 0 (normal vector [1, -2, 0] is orthogonal to [2, 3, 4])\n",
        "\n",
        "print(\"Parallel plane: 2x + 3y + 4z = 10\")\n",
        "print(\"Perpendicular plane: x - 2y = 0\")"
      ],
      "metadata": {
        "colab": {
          "base_uri": "https://localhost:8080/"
        },
        "id": "dL94J7Ea1BeQ",
        "outputId": "7afedf03-e108-4113-ff1d-4c9e2313da12"
      },
      "id": "dL94J7Ea1BeQ",
      "execution_count": 6,
      "outputs": [
        {
          "output_type": "stream",
          "name": "stdout",
          "text": [
            "Parallel plane: 2x + 3y + 4z = 10\n",
            "Perpendicular plane: x - 2y = 0\n"
          ]
        }
      ]
    },
    {
      "cell_type": "code",
      "source": [
        "#7\n",
        "import numpy as np\n",
        "\n",
        "# Define the plane and point\n",
        "plane_equation = [2, 3, 4, -5]  # [a, b, c, d] where ax + by + cz + d = 0\n",
        "A = np.array([1, 2, 3])\n",
        "\n",
        "# Calculate the distance\n",
        "distance = abs(np.dot(plane_equation[:3], A) + plane_equation[3]) / np.linalg.norm(plane_equation[:3])\n",
        "\n",
        "print(f\"Distance from point A to the plane: {distance}\")"
      ],
      "metadata": {
        "colab": {
          "base_uri": "https://localhost:8080/"
        },
        "id": "fzYxssyB1BVl",
        "outputId": "76a24a13-75c8-4d13-d13f-489c413a17a1"
      },
      "id": "fzYxssyB1BVl",
      "execution_count": 7,
      "outputs": [
        {
          "output_type": "stream",
          "name": "stdout",
          "text": [
            "Distance from point A to the plane: 2.785430072655778\n"
          ]
        }
      ]
    },
    {
      "cell_type": "code",
      "source": [
        "#8\n",
        "# The equation of a plane in intercept form is:\n",
        "# x/a + y/b + z/c = 1\n",
        "# where a, b, c are the intercepts on the x, y, z axes respectively\n",
        "\n",
        "# In this case, a = 2, b = 3, c = 4\n",
        "equation = \"x/2 + y/3 + z/4 = 1\"\n",
        "print(equation)"
      ],
      "metadata": {
        "colab": {
          "base_uri": "https://localhost:8080/"
        },
        "id": "rv0_-y171BLg",
        "outputId": "21178769-9ff9-4874-9024-bfb66c8461ee"
      },
      "id": "rv0_-y171BLg",
      "execution_count": 8,
      "outputs": [
        {
          "output_type": "stream",
          "name": "stdout",
          "text": [
            "x/2 + y/3 + z/4 = 1\n"
          ]
        }
      ]
    },
    {
      "cell_type": "code",
      "source": [
        "#9\n",
        "import numpy as np\n",
        "\n",
        "# Define the normal vectors of the planes\n",
        "n1 = np.array([1, 1, 1])  # Normal vector of x + y + z = 1\n",
        "n2 = np.array([1, 0, 0])  # Normal vector of x = 0\n",
        "\n",
        "# Calculate the angle between the planes\n",
        "angle = np.arccos(np.dot(n1, n2) / (np.linalg.norm(n1) * np.linalg.norm(n2)))\n",
        "\n",
        "# Convert the angle to degrees\n",
        "angle_degrees = np.degrees(angle)\n",
        "\n",
        "print(f\"Angle between the planes: {angle_degrees} degrees\")"
      ],
      "metadata": {
        "colab": {
          "base_uri": "https://localhost:8080/"
        },
        "id": "FMLwYr1L1BAP",
        "outputId": "c757536a-3dc6-4025-8ebd-ea1763c330f8"
      },
      "id": "FMLwYr1L1BAP",
      "execution_count": 9,
      "outputs": [
        {
          "output_type": "stream",
          "name": "stdout",
          "text": [
            "Angle between the planes: 54.735610317245346 degrees\n"
          ]
        }
      ]
    },
    {
      "cell_type": "code",
      "source": [
        "#10\n",
        "# The coefficients of x, y, and z in the equation of the plane represent the components of the normal vector.\n",
        "normal_vector = [1, 1, 1]\n",
        "\n",
        "print(f\"Vector perpendicular to the plane: {normal_vector}\")"
      ],
      "metadata": {
        "colab": {
          "base_uri": "https://localhost:8080/"
        },
        "id": "2fsssNd41VZv",
        "outputId": "025b844d-23df-45f9-f59a-1ba939b6c96a"
      },
      "id": "2fsssNd41VZv",
      "execution_count": 10,
      "outputs": [
        {
          "output_type": "stream",
          "name": "stdout",
          "text": [
            "Vector perpendicular to the plane: [1, 1, 1]\n"
          ]
        }
      ]
    },
    {
      "cell_type": "code",
      "source": [],
      "metadata": {
        "id": "iExC2W4W1VO3"
      },
      "id": "iExC2W4W1VO3",
      "execution_count": null,
      "outputs": []
    },
    {
      "cell_type": "code",
      "source": [],
      "metadata": {
        "id": "Qw8Ufrp51VGL"
      },
      "id": "Qw8Ufrp51VGL",
      "execution_count": null,
      "outputs": []
    },
    {
      "cell_type": "code",
      "source": [],
      "metadata": {
        "id": "1A8U76Es1U8K"
      },
      "id": "1A8U76Es1U8K",
      "execution_count": null,
      "outputs": []
    }
  ],
  "nbformat": 4,
  "nbformat_minor": 5,
  "metadata": {
    "colab": {
      "provenance": [],
      "include_colab_link": true
    },
    "language_info": {
      "name": "python"
    },
    "kernelspec": {
      "name": "python3",
      "display_name": "Python 3"
    }
  }
}