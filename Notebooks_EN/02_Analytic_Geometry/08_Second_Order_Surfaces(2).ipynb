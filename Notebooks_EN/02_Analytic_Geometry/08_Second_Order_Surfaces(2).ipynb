{
  "cells": [
    {
      "cell_type": "markdown",
      "metadata": {
        "id": "view-in-github",
        "colab_type": "text"
      },
      "source": [
        "<a href=\"https://colab.research.google.com/github/Lucjusz44/My-Math/blob/main/vertopal_com_exercise_list_(2).ipynb\" target=\"_parent\"><img src=\"https://colab.research.google.com/assets/colab-badge.svg\" alt=\"Open In Colab\"/></a>"
      ]
    },
    {
      "cell_type": "markdown",
      "metadata": {
        "id": "42a14256-91c8-446e-92a7-ab6bf11055d3"
      },
      "source": [
        "## Tasks related to equations of planes in space\n",
        "\n",
        "**Visualize each task.** - Python, GeoGebra, Wolfram Alpha, …\n",
        "\n",
        "-   The plane passes through points $A(1, 2, 3)$, $B(3, 4, 5)$, and\n",
        "    $C(2, 1, 4)$. Find the equation of the plane.\n",
        "-   The plane passes through point $A(1, 2, 3)$ and is parallel to the\n",
        "    plane $2x + 3y + 4z = 5$. Find the equation of the plane.\n",
        "-   The plane passes through point $A(1, 2, 3)$ and is perpendicular to\n",
        "    the normal vector $\\vec{n} = [2, 3, 4]$. Find the equation of the\n",
        "    plane.\n",
        "-   We have two planes $2x + 3y + 4z = 5$ and $3x + 4y + 2z = 6$. Find\n",
        "    the line of intersection of these planes.\n",
        "-   Write the equation of the plane passing through point $A(1, 2, 3)$\n",
        "    and parallel to vectors $\\vec{v_1} = [1, 0, 1]$ and\n",
        "    $\\vec{v_2} = [0, 1, -1]$.\n",
        "-   We have the plane $2x + 3y + 4z = 5$. Find an example of a plane\n",
        "    parallel and perpendicular to it.\n",
        "-   We have the plane $2x + 3y + 4z = 5$ and point $A(1, 2, 3)$. Find\n",
        "    the distance from point $A$ to this plane.\n",
        "-   The plane intersects the coordinate axes at points $A(2, 0, 0)$,\n",
        "    $B(0, 3, 0)$, and $C(0, 0, 4)$. Find the equation of the plane.\n",
        "-   Calculate the angle between the plane $x + y + z = 1$ and the plane\n",
        "    $x = 0$ (i.e., the $yz$ plane).\n",
        "-   Find the vector perpendicular to the plane $x + y + z = 1$."
      ],
      "id": "42a14256-91c8-446e-92a7-ab6bf11055d3"
    },
    {
      "cell_type": "code",
      "source": [
        "#1\n",
        "import numpy as np\n",
        "\n",
        "# Define the points\n",
        "A = np.array([1, 2, 3])\n",
        "B = np.array([3, 4, 5])\n",
        "C = np.array([2, 1, 4])\n",
        "\n",
        "# Calculate vectors AB and AC\n",
        "AB = B - A\n",
        "AC = C - A\n",
        "\n",
        "# Calculate the normal vector using cross product\n",
        "normal_vector = np.cross(AB, AC)\n",
        "\n",
        "# Using point-normal form (a(x-x0) + b(y-y0) + c(z-z0) = 0)\n",
        "# where (a, b, c) is the normal vector and (x0, y0, z0) is a point on the plane\n",
        "d = -np.dot(normal_vector, A)  # Calculate d\n",
        "\n",
        "# Print the equation of the plane\n",
        "print(f\"Equation of the plane: {normal_vector[0]}x + {normal_vector[1]}y + {normal_vector[2]}z + {d} = 0\")"
      ],
      "metadata": {
        "colab": {
          "base_uri": "https://localhost:8080/"
        },
        "id": "xYS445vt7lT8",
        "outputId": "381cacc3-cf93-49ae-85be-58f0035b5bb5"
      },
      "id": "xYS445vt7lT8",
      "execution_count": 1,
      "outputs": [
        {
          "output_type": "stream",
          "name": "stdout",
          "text": [
            "Equation of the plane: 4x + 0y + -4z + 8 = 0\n"
          ]
        }
      ]
    },
    {
      "cell_type": "code",
      "source": [
        "#2\n",
        "import numpy as np\n",
        "\n",
        "normal_vector = np.array([2, 3, 4])\n",
        "A = np.array([1, 2, 3])\n",
        "\n",
        "d = -np.dot(normal_vector, A)\n",
        "\n",
        "print(f\"Equation of the plane: {normal_vector[0]}x + {normal_vector[1]}y + {normal_vector[2]}z + {d} = 0\")"
      ],
      "metadata": {
        "colab": {
          "base_uri": "https://localhost:8080/"
        },
        "id": "sH-w2T9L9Dg4",
        "outputId": "fc3550e4-5240-4330-994c-67d72038c5a7"
      },
      "id": "sH-w2T9L9Dg4",
      "execution_count": 6,
      "outputs": [
        {
          "output_type": "stream",
          "name": "stdout",
          "text": [
            "Equation of the plane: 2x + 3y + 4z + -20 = 0\n"
          ]
        }
      ]
    },
    {
      "cell_type": "code",
      "source": [
        "#3\n",
        "import numpy as np\n",
        "\n",
        "normal_vector = np.array([2, 3, 4])\n",
        "A = np.array([1, 2, 3])\n",
        "\n",
        "d = -np.dot(normal_vector, A)\n",
        "\n",
        "print(f\"Equation of the plane: {normal_vector[0]}x + {normal_vector[1]}y + {normal_vector[2]}z + {d} = 0\")"
      ],
      "metadata": {
        "colab": {
          "base_uri": "https://localhost:8080/"
        },
        "id": "0YCSQi--9DTz",
        "outputId": "70f58982-1cc1-4a0b-84c0-4fd5d2b7be29"
      },
      "id": "0YCSQi--9DTz",
      "execution_count": 7,
      "outputs": [
        {
          "output_type": "stream",
          "name": "stdout",
          "text": [
            "Equation of the plane: 2x + 3y + 4z + -20 = 0\n"
          ]
        }
      ]
    },
    {
      "cell_type": "code",
      "source": [
        "#4\n",
        "from sympy import symbols, Eq, solve\n",
        "\n",
        "x, y, z = symbols('x, y, z')\n",
        "\n",
        "# Equations of the planes\n",
        "eq1 = Eq(2*x + 3*y + 4*z, 5)\n",
        "eq2 = Eq(3*x + 4*y + 2*z, 6)\n",
        "\n",
        "# Solve for x and y in terms of z (or any other free parameter)\n",
        "solution = solve((eq1, eq2), (x, y))\n",
        "\n",
        "# Print the solution (parametric equations of the line)\n",
        "print(\"Line of intersection:\")\n",
        "print(f\"x = {solution[x]}\")  # x will be in terms of z\n",
        "print(f\"y = {solution[y]}\")  # y will be in terms of z\n",
        "print(f\"z = z\")              # z is the free parameter"
      ],
      "metadata": {
        "colab": {
          "base_uri": "https://localhost:8080/"
        },
        "id": "_OYLbY3v9DI_",
        "outputId": "9b95a824-fe48-49f2-da27-04dac885270e"
      },
      "id": "_OYLbY3v9DI_",
      "execution_count": 9,
      "outputs": [
        {
          "output_type": "stream",
          "name": "stdout",
          "text": [
            "Line of intersection:\n",
            "x = 10*z - 2\n",
            "y = 3 - 8*z\n",
            "z = z\n"
          ]
        }
      ]
    },
    {
      "cell_type": "code",
      "source": [
        "#5\n",
        "import numpy as np\n",
        "\n",
        "v1 = np.array([1, 0, 1])\n",
        "v2 = np.array([0, 1, -1])\n",
        "A = np.array([1, 2, 3])\n",
        "\n",
        "normal_vector = np.cross(v1, v2)\n",
        "d = -np.dot(normal_vector, A)\n",
        "\n",
        "print(f\"Equation of the plane: {normal_vector[0]}x + {normal_vector[1]}y + {normal_vector[2]}z + {d} = 0\")"
      ],
      "metadata": {
        "colab": {
          "base_uri": "https://localhost:8080/"
        },
        "id": "YA2uhBec9C_k",
        "outputId": "3c5c6328-6633-46b7-e41e-bc468706caae"
      },
      "id": "YA2uhBec9C_k",
      "execution_count": 10,
      "outputs": [
        {
          "output_type": "stream",
          "name": "stdout",
          "text": [
            "Equation of the plane: -1x + 1y + 1z + -4 = 0\n"
          ]
        }
      ]
    },
    {
      "cell_type": "code",
      "source": [
        "#6\n",
        "# Any plane with the same normal vector [2, 3, 4] and a different d\n",
        "# Example: 2x + 3y + 4z = 10\n",
        "# Any plane with a normal vector perpendicular to [2, 3, 4]\n",
        "# Example: x - 2y = 0 (normal vector [1, -2, 0])"
      ],
      "metadata": {
        "id": "934s40UB9Cyq"
      },
      "id": "934s40UB9Cyq",
      "execution_count": 12,
      "outputs": []
    },
    {
      "cell_type": "code",
      "source": [
        "#7\n",
        "import numpy as np\n",
        "\n",
        "A = np.array([1, 2, 3])\n",
        "normal_vector = np.array([2, 3, 4])\n",
        "d = 5  # From the equation of the plane\n",
        "\n",
        "distance = abs(np.dot(normal_vector, A) + d) / np.linalg.norm(normal_vector)\n",
        "\n",
        "print(f\"Distance from point A to the plane: {distance}\")"
      ],
      "metadata": {
        "colab": {
          "base_uri": "https://localhost:8080/"
        },
        "id": "GrALxyzU-b4y",
        "outputId": "6d9e104e-e6a1-4150-8473-1709dc524acb"
      },
      "id": "GrALxyzU-b4y",
      "execution_count": 13,
      "outputs": [
        {
          "output_type": "stream",
          "name": "stdout",
          "text": [
            "Distance from point A to the plane: 4.642383454426297\n"
          ]
        }
      ]
    },
    {
      "cell_type": "code",
      "source": [
        "#8\n",
        "# Equation is of the form x/a + y/b + z/c = 1\n",
        "print(\"Equation of the plane: x/2 + y/3 + z/4 = 1\")"
      ],
      "metadata": {
        "colab": {
          "base_uri": "https://localhost:8080/"
        },
        "id": "ZZgZJb8X-itT",
        "outputId": "f2114bb5-3554-43bd-d90d-1e6fdd3cbf92"
      },
      "id": "ZZgZJb8X-itT",
      "execution_count": 14,
      "outputs": [
        {
          "output_type": "stream",
          "name": "stdout",
          "text": [
            "Equation of the plane: x/2 + y/3 + z/4 = 1\n"
          ]
        }
      ]
    },
    {
      "cell_type": "code",
      "source": [
        "#9\n",
        "import numpy as np\n",
        "\n",
        "normal_vector1 = np.array([1, 1, 1])\n",
        "normal_vector2 = np.array([1, 0, 0])\n",
        "\n",
        "angle = np.arccos(np.dot(normal_vector1, normal_vector2) / (np.linalg.norm(normal_vector1) * np.linalg.norm(normal_vector2)))\n",
        "\n",
        "print(f\"Angle between the planes: {angle} radians\")"
      ],
      "metadata": {
        "colab": {
          "base_uri": "https://localhost:8080/"
        },
        "id": "VAa9YRM3-ify",
        "outputId": "1ee79c08-ab48-4236-a460-2bffec7d6410"
      },
      "id": "VAa9YRM3-ify",
      "execution_count": 15,
      "outputs": [
        {
          "output_type": "stream",
          "name": "stdout",
          "text": [
            "Angle between the planes: 0.9553166181245092 radians\n"
          ]
        }
      ]
    },
    {
      "cell_type": "code",
      "source": [
        "#10\n",
        "import numpy as np\n",
        "normal_vector = np.array([1, 1, 1])\n",
        "print(f\"Vector perpendicular to the plane: {normal_vector}\")"
      ],
      "metadata": {
        "colab": {
          "base_uri": "https://localhost:8080/"
        },
        "id": "H3hllBzi-ogn",
        "outputId": "80e548e2-da34-4ed9-ea71-cbe9dcdde3d9"
      },
      "id": "H3hllBzi-ogn",
      "execution_count": 16,
      "outputs": [
        {
          "output_type": "stream",
          "name": "stdout",
          "text": [
            "Vector perpendicular to the plane: [1 1 1]\n"
          ]
        }
      ]
    }
  ],
  "nbformat": 4,
  "nbformat_minor": 5,
  "metadata": {
    "colab": {
      "provenance": [],
      "include_colab_link": true
    },
    "language_info": {
      "name": "python"
    },
    "kernelspec": {
      "name": "python3",
      "display_name": "Python 3"
    }
  }
}
