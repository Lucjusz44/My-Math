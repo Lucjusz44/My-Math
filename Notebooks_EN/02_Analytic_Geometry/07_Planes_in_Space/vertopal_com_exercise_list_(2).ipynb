{
  "cells": [
    {
      "cell_type": "markdown",
      "metadata": {
        "id": "view-in-github",
        "colab_type": "text"
      },
      "source": [
        "<a href=\"https://colab.research.google.com/github/Lucjusz44/My-Math/blob/main/Notebooks_EN/02_Analytic_Geometry/07_Planes_in_Space/vertopal_com_exercise_list_(2).ipynb\" target=\"_parent\"><img src=\"https://colab.research.google.com/assets/colab-badge.svg\" alt=\"Open In Colab\"/></a>"
      ]
    },
    {
      "cell_type": "markdown",
      "metadata": {
        "id": "42a14256-91c8-446e-92a7-ab6bf11055d3"
      },
      "source": [
        "## Tasks related to equations of planes in space\n",
        "\n",
        "**Visualize each task.** - Python, GeoGebra, Wolfram Alpha, …\n",
        "\n",
        "-   The plane passes through points $A(1, 2, 3)$, $B(3, 4, 5)$, and\n",
        "    $C(2, 1, 4)$. Find the equation of the plane.\n",
        "-   The plane passes through point $A(1, 2, 3)$ and is parallel to the\n",
        "    plane $2x + 3y + 4z = 5$. Find the equation of the plane.\n",
        "-   The plane passes through point $A(1, 2, 3)$ and is perpendicular to\n",
        "    the normal vector $\\vec{n} = [2, 3, 4]$. Find the equation of the\n",
        "    plane.\n",
        "-   We have two planes $2x + 3y + 4z = 5$ and $3x + 4y + 2z = 6$. Find\n",
        "    the line of intersection of these planes.\n",
        "-   Write the equation of the plane passing through point $A(1, 2, 3)$\n",
        "    and parallel to vectors $\\vec{v_1} = [1, 0, 1]$ and\n",
        "    $\\vec{v_2} = [0, 1, -1]$.\n",
        "-   We have the plane $2x + 3y + 4z = 5$. Find an example of a plane\n",
        "    parallel and perpendicular to it.\n",
        "-   We have the plane $2x + 3y + 4z = 5$ and point $A(1, 2, 3)$. Find\n",
        "    the distance from point $A$ to this plane.\n",
        "-   The plane intersects the coordinate axes at points $A(2, 0, 0)$,\n",
        "    $B(0, 3, 0)$, and $C(0, 0, 4)$. Find the equation of the plane.\n",
        "-   Calculate the angle between the plane $x + y + z = 1$ and the plane\n",
        "    $x = 0$ (i.e., the $yz$ plane).\n",
        "-   Find the vector perpendicular to the plane $x + y + z = 1$."
      ],
      "id": "42a14256-91c8-446e-92a7-ab6bf11055d3"
    },
    {
      "cell_type": "markdown",
      "source": [
        "### 1. **Plane through points \\( A(1,2,3) \\), \\( B(3,4,5) \\), \\( C(2,1,4) \\):**\n",
        "\n",
        "1. Find two vectors in the plane:  \n",
        "   $$ \\vec{AB} = [3-1, 4-2, 5-3] = [2, 2, 2] $$  \n",
        "   $$ \\vec{AC} = [2-1, 1-2, 4-3] = [1, -1, 1] $$  \n",
        "\n",
        "2. Compute the normal vector \\( \\vec{n} \\):  \n",
        "   $$ \\vec{n} = \\vec{AB} \\times \\vec{AC} $$  \n",
        "   $$ \\vec{n} = \\begin{vmatrix}  \n",
        "   \\vec{i} & \\vec{j} & \\vec{k} \\\\  \n",
        "   2 & 2 & 2 \\\\  \n",
        "   1 & -1 & 1 \\\\  \n",
        "   \\end{vmatrix} = [4, -2, -4] $$  \n",
        "\n",
        "3. Use point \\( A(1,2,3) \\) to form the equation:  \n",
        "   $$ 4(x-1) - 2(y-2) - 4(z-3) = 0 $$  \n",
        "   $$ 4x - 2y - 4z = -10 $$  \n",
        "\n",
        "**GeoGebra Code:**  \n",
        "[GeoGebra](https://app.gemoo.com/share/image-annotation/742644508313464832?codeId=vJWqkZ1KjKL7V&origin=imageurlgenerator&card=742644506627354624)\n",
        "\n",
        "---\n",
        "\n",
        "### 2. **Plane through \\( A(1,2,3) \\), parallel to \\( 2x + 3y + 4z = 5 \\):**\n",
        "\n",
        "1. Use the same normal vector \\( [2, 3, 4] \\).  \n",
        "2. Plug in point \\( A(1,2,3) \\):  \n",
        "   $$ 2(x-1) + 3(y-2) + 4(z-3) = 0 $$  \n",
        "   $$ 2x + 3y + 4z = 20 $$  \n",
        "\n",
        "**GeoGebra Code:**  \n",
        "[GeoGebra](https://app.gemoo.com/share/image-annotation/742644228087820288?codeId=Mp8zexAK53aKx&origin=imageurlgenerator&card=742644226460430336)\n",
        "\n",
        "---\n",
        "\n",
        "### 3. **Plane through \\( A(1,2,3) \\), perpendicular to \\( \\vec{n} = [2,3,4] \\):**\n",
        "\n",
        "1. Use the normal vector \\( [2,3,4] \\).  \n",
        "2. Form the equation:  \n",
        "   $$ 2(x-1) + 3(y-2) + 4(z-3) = 0 $$  \n",
        "   $$ 2x + 3y + 4z = 20 $$  \n",
        "\n",
        "**GeoGebra Code:**  \n",
        "[GeoGebra](https://app.gemoo.com/share/image-annotation/742643939406458880?codeId=Mp8zeXn38955q&origin=imageurlgenerator&card=742643937581936640)\n",
        "\n",
        "---\n",
        "\n",
        "### 4. **Line of intersection of \\( 2x+3y+4z=5 \\) and \\( 3x+4y+2z=6 \\):**\n",
        "\n",
        "1. Solve the system for \\( z \\):  \n",
        "   Multiply the first by 3 and second by 2:  \n",
        "   $$ 6x + 9y + 12z = 15 $$  \n",
        "   $$ 6x + 8y + 4z = 12 $$  \n",
        "\n",
        "   Subtract:  \n",
        "   $$ y + 8z = 3 \\ \\text{or} \\ y = 3 - 8z $$  \n",
        "\n",
        "2. Substitute into \\( 2x + 3y + 4z = 5 \\):  \n",
        "   $$ 2x + 3(3 - 8z) + 4z = 5 $$  \n",
        "   $$ 2x - 20z = -4 \\ \\text{or} \\ x = 2z - 2 $$  \n",
        "\n",
        "3. Line equation:  \n",
        "   $$ x = 2z - 2, \\ y = 3 - 8z, \\ z = z $$  \n",
        "\n",
        "**GeoGebra Code:**  \n",
        "[GeoGebra](https://app.gemoo.com/share/image-annotation/742643175866974208?codeId=vJWqkXjRWe4Z9&origin=imageurlgenerator&card=742643174130532352)\n",
        "---\n",
        "\n",
        "### 5. **Plane through \\( A(1,2,3) \\), parallel to \\( \\vec{v_1} = [1,0,1] \\) and \\( \\vec{v_2} = [0,1,-1] \\):**\n",
        "\n",
        "1. Compute normal vector:  \n",
        "   $$ \\vec{n} = \\vec{v_1} \\times \\vec{v_2} = [1, 1, -1] $$  \n",
        "\n",
        "2. Use point \\( A(1,2,3) \\):  \n",
        "   $$ (x-1) + (y-2) - (z-3) = 0 $$  \n",
        "   $$ x + y - z = 2 $$  \n",
        "\n",
        "**GeoGebra Code:**  \n",
        "[GeoGebra](https://app.gemoo.com/share/image-annotation/742643175866974208?codeId=vJWqkXjRWe4Z9&origin=imageurlgenerator&card=742643174130532352)\n",
        "\n",
        "---\n",
        "\n",
        "### 6. **Parallel and perpendicular planes to \\( 2x+3y+4z=5 \\):**\n",
        "\n",
        "- Parallel: Use the same normal, change constant:  \n",
        "  $$ 2x + 3y + 4z = 10 $$  \n",
        "\n",
        "- Perpendicular: Swap one coefficient to 0, e.g.:  \n",
        "  $$ 3y + 4z = 5 $$  \n",
        "\n",
        "**GeoGebra Code:**  \n",
        "[GeoGebra](https://app.gemoo.com/share/image-annotation/742642743937548288?codeId=DWBdNpjznQo5L&origin=imageurlgenerator&card=742642742259826688)\n",
        "\n",
        "---\n",
        "\n",
        "### 7. **Distance from \\( A(1,2,3) \\) to \\( 2x+3y+4z=5 \\):**\n",
        "\n",
        "1. Use the formula:  \n",
        "   $$ d = \\frac{2(1) + 3(2) + 4(3) - 5}{\\sqrt{2^2 + 3^2 + 4^2}} $$  \n",
        "   $$ d = \\frac{17 - 5}{\\sqrt{29}} = \\frac{12}{\\sqrt{29}} $$  \n",
        "\n",
        "---\n",
        "\n",
        "### 8. **Plane through \\( A(2,0,0) \\), \\( B(0,3,0) \\), \\( C(0,0,4) \\):**\n",
        "\n",
        "1. Compute normal vector:  \n",
        "   $$ \\vec{AB} = [-2, 3, 0], \\ \\vec{AC} = [-2, 0, 4] $$  \n",
        "   $$ \\vec{n} = \\vec{AB} \\times \\vec{AC} = [12, 8, 6] $$  \n",
        "\n",
        "2. Plane equation:  \n",
        "   $$ 12x + 8y + 6z = 24 $$  \n",
        "\n",
        "**GeoGebra Code:**  \n",
        "[GeoGebra](https://app.gemoo.com/share/image-annotation/742642165161336832?codeId=PYgdN9eeq9rwV&origin=imageurlgenerator&card=742642163332620288)\n",
        "\n",
        "---\n",
        "\n",
        "### 9. **Angle between \\( x+y+z=1 \\) and \\( x=0 \\):**\n",
        "\n",
        "1. Normal vector of \\( x+y+z=1 \\): \\( [1,1,1] \\).  \n",
        "2. Normal vector of \\( x=0 \\): \\( [1,0,0] \\).  \n",
        "3. Use dot product:  \n",
        "   $$ \\cos \\theta = \\frac{1(1) + 1(0) + 1(0)}{\\sqrt{1^2+1^2+1^2} \\cdot \\sqrt{1^2}} $$  \n",
        "   $$ \\cos \\theta = \\frac{1}{\\sqrt{3}} $$  \n",
        "   $$ \\theta = \\arccos(\\frac{1}{\\sqrt{3}}) $$  \n",
        "\n",
        "---\n",
        "\n",
        "### 10. **Vector perpendicular to \\( x+y+z=1 \\):**\n",
        "\n",
        "- Perpendicular vector:  \n",
        "  $$ \\vec{n} = [1,1,1] $$  \n",
        "\n",
        "**GeoGebra Code for Visual:**  \n",
        "[GeoGebra](https://app.gemoo.com/share/image-annotation/742641784465321984?codeId=PYgdNnQBNENno&origin=imageurlgenerator&card=742641782812766208)\n"
      ],
      "metadata": {
        "id": "nDg6SMZ3CTVo"
      },
      "id": "nDg6SMZ3CTVo"
    },
    {
      "cell_type": "markdown",
      "source": [],
      "metadata": {
        "id": "VVahVmkKA3Jg"
      },
      "id": "VVahVmkKA3Jg"
    },
    {
      "cell_type": "markdown",
      "source": [],
      "metadata": {
        "id": "XQ_-9yhDAT2Y"
      },
      "id": "XQ_-9yhDAT2Y"
    },
    {
      "cell_type": "code",
      "source": [],
      "metadata": {
        "id": "iExC2W4W1VO3"
      },
      "id": "iExC2W4W1VO3",
      "execution_count": null,
      "outputs": []
    },
    {
      "cell_type": "code",
      "source": [],
      "metadata": {
        "id": "Qw8Ufrp51VGL"
      },
      "id": "Qw8Ufrp51VGL",
      "execution_count": null,
      "outputs": []
    },
    {
      "cell_type": "code",
      "source": [],
      "metadata": {
        "id": "1A8U76Es1U8K"
      },
      "id": "1A8U76Es1U8K",
      "execution_count": null,
      "outputs": []
    }
  ],
  "nbformat": 4,
  "nbformat_minor": 5,
  "metadata": {
    "colab": {
      "provenance": [],
      "include_colab_link": true
    },
    "language_info": {
      "name": "python"
    },
    "kernelspec": {
      "name": "python3",
      "display_name": "Python 3"
    }
  }
}